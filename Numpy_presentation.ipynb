{
 "cells": [
  {
   "cell_type": "markdown",
   "id": "8c99ec9d",
   "metadata": {},
   "source": [
    "## Self Study Seminar Presentation\n",
    "### Course Name - Python for Data Science\n",
    "### Topic - Numpy\n",
    "#### Presented By - Ritik Malarya (0901CS191100)\n",
    "#### Date - 26 october 2021"
   ]
  },
  {
   "cell_type": "markdown",
   "id": "090ab1e9",
   "metadata": {},
   "source": [
    "### What is Numpy?\n",
    "- NumPy stands for Numerical Python.\n",
    "- NumPy is the fundamental package for scientific computing in Python.\n",
    "- NumPy is a Python library used for working with arrays.\n",
    "- It also has functions for working in domain of linear algebra, fourier transform, and matrices.\n"
   ]
  },
  {
   "cell_type": "markdown",
   "id": "0400bc95",
   "metadata": {},
   "source": [
    "### Why use Numpy?\n",
    "\n",
    "- NumPy provide efficent storage\n",
    "- It is fast & easy to learn, almost 50X faster than traditional Python lists.\n",
    "- The array object in NumPy is called ndarray.\n",
    "- NumPy uses relatively less memory to store data"
   ]
  },
  {
   "cell_type": "markdown",
   "id": "f09a1cc7",
   "metadata": {},
   "source": [
    "### Generally, Numpy is written paritally in python,but most of the parts that require fast computation are written in C or C++."
   ]
  },
  {
   "cell_type": "markdown",
   "id": "ce7afa98",
   "metadata": {},
   "source": [
    "### Installation \n",
    "-  For installation, Just simply write pip install numpy in command prompt "
   ]
  },
  {
   "cell_type": "markdown",
   "id": "23518d2c",
   "metadata": {},
   "source": [
    "#### How to import Numpy Libraries\n",
    "\n",
    "- import numpy as np i.e.numpy is usually imported under the np alias.\n"
   ]
  },
  {
   "cell_type": "markdown",
   "id": "09e56963",
   "metadata": {},
   "source": [
    "### Create 1-D, 2-D and 3-D arary"
   ]
  },
  {
   "cell_type": "code",
   "execution_count": 14,
   "id": "52c6f2fc",
   "metadata": {},
   "outputs": [
    {
     "name": "stdout",
     "output_type": "stream",
     "text": [
      "[ 1  2  3  4  5  6  7  8  9 10]\n",
      "----------------------------------------------------------------------------------------------------\n",
      "[[1 2 3 4]\n",
      " [5 6 7 8]]\n",
      "----------------------------------------------------------------------------------------------------\n",
      "[[[1 2 3]\n",
      "  [4 5 6]]\n",
      "\n",
      " [[1 2 3]\n",
      "  [4 5 6]]]\n"
     ]
    }
   ],
   "source": [
    "import numpy as np\n",
    "\n",
    "# 1-Dimensional array\n",
    "arr1 = np.array([1,2,3,4,5,6,7,8,9,10])\n",
    "print(arr1) \n",
    "print(\"--\"*50)\n",
    "\n",
    "\n",
    "\n",
    "# 2-Dimensional array\n",
    "arr2 = np.array([[1,2,3,4],[5,6,7,8]])\n",
    "print(arr2)\n",
    "print(\"--\"*50)\n",
    "\n",
    "# 3-Dimensional array\n",
    "\n",
    "\n",
    "arr3 = np.array([[[1, 2, 3], [4, 5, 6]], [[1, 2, 3], [4, 5, 6]]])\n",
    "\n",
    "print(arr3)"
   ]
  },
  {
   "cell_type": "markdown",
   "id": "6e34e144",
   "metadata": {},
   "source": [
    "### Dimension in arrays"
   ]
  },
  {
   "cell_type": "code",
   "execution_count": 16,
   "id": "d80fc9ff",
   "metadata": {},
   "outputs": [
    {
     "name": "stdout",
     "output_type": "stream",
     "text": [
      "The dimension of array a is  0\n",
      "The dimension of array a is  1\n",
      "The dimension of array a is  2\n",
      "The dimension of array a is  3\n"
     ]
    }
   ],
   "source": [
    "import numpy as np\n",
    "\n",
    "a = np.array(42)\n",
    "b = np.array([1, 2, 3, 4, 5])\n",
    "c = np.array([[1, 2, 3], [4, 5, 6]])\n",
    "d = np.array([[[1, 2, 3], [4, 5, 6]], [[1, 2, 3], [4, 5, 6]]])\n",
    "\n",
    "\n",
    "print(\"The dimension of array a is \",np.ndim(a))\n",
    "print(\"The dimension of array a is \",np.ndim(b))\n",
    "print(\"The dimension of array a is \",np.ndim(c))\n",
    "print(\"The dimension of array a is \",np.ndim(d))"
   ]
  },
  {
   "cell_type": "markdown",
   "id": "1891f3da",
   "metadata": {},
   "source": [
    "### NumPy arrays indexing"
   ]
  },
  {
   "cell_type": "code",
   "execution_count": 30,
   "id": "5abdb28b",
   "metadata": {},
   "outputs": [
    {
     "name": "stdout",
     "output_type": "stream",
     "text": [
      "1\n",
      "2\n",
      "3\n",
      "4\n",
      "----------------------------------------\n",
      "Accessing 2-d array\n",
      "[[ 1  2  3  4  5]\n",
      " [ 6  7  8  9 10]]\n",
      "2nd element on 1st row:  2\n",
      "5th elemment on 2nd row 10\n"
     ]
    }
   ],
   "source": [
    "import numpy as np\n",
    "\n",
    "arr = np.array([1, 2, 3, 4])\n",
    "\n",
    "print(arr[0]) #accessing first element\n",
    "\n",
    "print(arr[1])\n",
    "print(arr[2])\n",
    "print(arr[3])\n",
    "print(\"-\"*40)\n",
    "\n",
    "print(\"Accessing 2-d array\")\n",
    "\n",
    "\n",
    "arr = np.array([[1,2,3,4,5], [6,7,8,9,10]])\n",
    "print(arr)\n",
    "\n",
    "print('2nd element on 1st row: ', arr[0, 1])\n",
    "\n",
    "print(\"5th elemment on 2nd row\",arr[1,4])\n",
    "\n"
   ]
  },
  {
   "cell_type": "markdown",
   "id": "6e0ef398",
   "metadata": {},
   "source": [
    "### NumPy Array Slicing\n",
    "- Slicing in python means taking elements from one given index to another given index."
   ]
  },
  {
   "cell_type": "code",
   "execution_count": 36,
   "id": "80a94fdc",
   "metadata": {},
   "outputs": [
    {
     "name": "stdout",
     "output_type": "stream",
     "text": [
      "[2 3 4 5]\n",
      "[5 6 7]\n",
      "[5 6]\n",
      "[1 3 5 7]\n"
     ]
    }
   ],
   "source": [
    "arr = np.array([1, 2, 3, 4, 5, 6, 7])\n",
    "\n",
    "print(arr[1:5]) # The result includes the start index, but excludes the end index.\n",
    "\n",
    "\n",
    "\n",
    "#Slice elements from index 4 to the end of the array:\n",
    "print(arr[4:])\n",
    "\n",
    "#Slice from the index 3 from the end to index 1 from the end:\n",
    "print(arr[-3:-1])\n",
    "\n",
    "\n",
    "# Return every other element.\n",
    "print(arr[0::2])\n",
    "\n"
   ]
  },
  {
   "cell_type": "markdown",
   "id": "a8b6e751",
   "metadata": {},
   "source": [
    "### NumPy Data Types\n",
    "- i - integer\n",
    "- b - boolean\n",
    "- u - unsigned integer\n",
    "- f - float\n",
    "- c  - complex float\n",
    "- m - timedelta\n",
    "- M - datetime\n",
    "- O - object\n",
    "- S - string\n",
    "- U - unicode string\n",
    "- V - fixed chunk of memory for other type ( void )"
   ]
  },
  {
   "cell_type": "code",
   "execution_count": 48,
   "id": "a353ecf7",
   "metadata": {},
   "outputs": [
    {
     "name": "stdout",
     "output_type": "stream",
     "text": [
      "int32\n",
      "----------------------------------------\n",
      "<U6\n",
      "----------------------------------------\n",
      "|S1\n"
     ]
    }
   ],
   "source": [
    "arr = np.array([1,2,3,4,5,6,7,9,11,12,14,34,43])\n",
    "\n",
    "print(arr.dtype)\n",
    "print(\"-\"*40)\n",
    "\n",
    "arr = np.array(['apple', 'banana', 'cherry'])\n",
    "\n",
    "print(arr.dtype) # unicode string\n",
    "\n",
    "print(\"-\"*40)\n",
    "\n",
    "arr = np.array([1, 2, 3, 4], dtype='S')\n",
    "print(arr.dtype)"
   ]
  },
  {
   "cell_type": "markdown",
   "id": "36dc9161",
   "metadata": {},
   "source": [
    "### Converting datatype on existing array\n",
    "\n",
    "- The best way to change the data type of an existing array with the astype() method."
   ]
  },
  {
   "cell_type": "code",
   "execution_count": 50,
   "id": "bbf55ad8",
   "metadata": {},
   "outputs": [
    {
     "name": "stdout",
     "output_type": "stream",
     "text": [
      "[1 2 3]\n",
      "int32\n"
     ]
    }
   ],
   "source": [
    "# Change data type from float to integer by using 'i' as parameter value:\n",
    "import numpy as np\n",
    "\n",
    "arr = np.array([1.1, 2.1, 3.1])\n",
    "\n",
    "newarr = arr.astype('i')\n",
    "\n",
    "print(newarr)\n",
    "print(newarr.dtype)\n",
    "\n"
   ]
  },
  {
   "cell_type": "code",
   "execution_count": 52,
   "id": "0484fddc",
   "metadata": {},
   "outputs": [],
   "source": [
    "#Change data type from int to Bool by using int as parameter value:"
   ]
  },
  {
   "cell_type": "code",
   "execution_count": 55,
   "id": "97a4c67e",
   "metadata": {},
   "outputs": [
    {
     "name": "stdout",
     "output_type": "stream",
     "text": [
      "[ True False False  True  True False]\n",
      "bool\n"
     ]
    }
   ],
   "source": [
    "import numpy as np\n",
    "\n",
    "arr = np.array([1, 0,0,1,1,0])\n",
    "\n",
    "newarr = arr.astype(bool)\n",
    "\n",
    "print(newarr)\n",
    "print(newarr.dtype)"
   ]
  },
  {
   "cell_type": "markdown",
   "id": "c54184bb",
   "metadata": {},
   "source": [
    "### NumPy Array Shape\n",
    "- The shape of an array is the number of elements in each dimension."
   ]
  },
  {
   "cell_type": "code",
   "execution_count": 57,
   "id": "21eef6aa",
   "metadata": {},
   "outputs": [
    {
     "name": "stdout",
     "output_type": "stream",
     "text": [
      "(2, 4)\n"
     ]
    }
   ],
   "source": [
    "arr = np.array([[1, 2, 3, 4], [5, 6, 7, 8]])\n",
    "\n",
    "print(arr.shape)\n",
    "\n",
    "#The example above returns (2, 4), which means that the array has 2 dimensions, and each dimension has 4 elements."
   ]
  },
  {
   "cell_type": "markdown",
   "id": "04771048",
   "metadata": {},
   "source": [
    "### NumPy Sorting Arrays\n",
    "- Sorting means putting elements in an ordered sequence.\n",
    "- The NumPy ndarray object has a function called sort(), that will sort a specified array."
   ]
  },
  {
   "cell_type": "code",
   "execution_count": 62,
   "id": "6e0f45ec",
   "metadata": {},
   "outputs": [
    {
     "name": "stdout",
     "output_type": "stream",
     "text": [
      "Before Sorting =  [3 2 0 1]\n",
      "After Sorting =  [0 1 2 3]\n"
     ]
    }
   ],
   "source": [
    "arr = np.array([3, 2, 0, 1])\n",
    "\n",
    "print(\"Before Sorting = \",arr)\n",
    "arr = np.sort(arr)\n",
    "print(\"After Sorting = \",arr)\n",
    "\n"
   ]
  },
  {
   "cell_type": "code",
   "execution_count": 64,
   "id": "c22f42ae",
   "metadata": {},
   "outputs": [
    {
     "name": "stdout",
     "output_type": "stream",
     "text": [
      "Before Sorting =  ['banana' 'cherry' 'apple']\n",
      "After Sorting =  ['apple' 'banana' 'cherry']\n"
     ]
    }
   ],
   "source": [
    "# Sort array alphabatically\n",
    "arr = np.array(['banana', 'cherry', 'apple'])\n",
    "print(\"Before Sorting = \",arr)\n",
    "arr = np.sort(arr)\n",
    "print(\"After Sorting = \",arr)"
   ]
  },
  {
   "cell_type": "code",
   "execution_count": 66,
   "id": "b28c0184",
   "metadata": {},
   "outputs": [
    {
     "name": "stdout",
     "output_type": "stream",
     "text": [
      "Before Sorting =  [[3 2 4]\n",
      " [5 0 1]]\n",
      "After Sorting =  [[2 3 4]\n",
      " [0 1 5]]\n"
     ]
    }
   ],
   "source": [
    "# Sort a 2-d array\n",
    "arr = np.array([[3, 2, 4], [5, 0, 1]])\n",
    "\n",
    "print(\"Before Sorting = \",arr)\n",
    "arr = np.sort(arr)\n",
    "print(\"After Sorting = \",arr)"
   ]
  },
  {
   "cell_type": "code",
   "execution_count": null,
   "id": "cf5e69bf",
   "metadata": {},
   "outputs": [],
   "source": []
  }
 ],
 "metadata": {
  "kernelspec": {
   "display_name": "Python 3",
   "language": "python",
   "name": "python3"
  },
  "language_info": {
   "codemirror_mode": {
    "name": "ipython",
    "version": 3
   },
   "file_extension": ".py",
   "mimetype": "text/x-python",
   "name": "python",
   "nbconvert_exporter": "python",
   "pygments_lexer": "ipython3",
   "version": "3.8.8"
  }
 },
 "nbformat": 4,
 "nbformat_minor": 5
}
